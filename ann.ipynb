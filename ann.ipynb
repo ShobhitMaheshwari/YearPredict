{
 "cells": [
  {
   "cell_type": "markdown",
   "metadata": {},
   "source": [
    "# Year Prediction for Songs\n",
    "\n",
    "This is the Python2 notebook for CS218 class project. We will complete it in several pieces.\n",
    "\n",
    "This Jupyter notebook will go through the Artifical Neural Network attempts. \n",
    "\n",
    "It's based on code at http://neuralnetworksanddeeplearning.com/. \n",
    "\n",
    "We will try several things:\n",
    "\n",
    "- Artificial Neural Network with no Hidden Layer (Naive Try)\n",
    "- Deep Neural Network\n",
    "- A more complex Convolutional Neural Network Structure\n",
    "\n",
    "The original code was built for loading MNIST image data. We have modified loader script so that it loads the Million Song Dataset instead.\n",
    "\n",
    "Please run ```download.sh``` in the folder to download ```YearPredictionMSD.txt``` data file."
   ]
  },
  {
   "cell_type": "markdown",
   "metadata": {},
   "source": [
    "# (1) Artificial Neural Networks with no Hidden Layer\n",
    "\n",
    "For this part, we have utilized the code of the textbook we have been reading, which can be found [here](http://neuralnetworksanddeeplearning.com/chap3.html).\n",
    "\n",
    "As explained above, we have modified the loader script. The code will start by calling the piece that loads the data."
   ]
  },
  {
   "cell_type": "code",
   "execution_count": null,
   "metadata": {
    "collapsed": false
   },
   "outputs": [
    {
     "name": "stdout",
     "output_type": "stream",
     "text": [
      "Epoch 0 training complete\n",
      "Cost on training data: 4.66377012179\n",
      "Accuracy on training data: 26682 / 463715\n",
      "Cost on evaluation data: 4.69544174969\n",
      "Accuracy on evaluation data: 2927 / 51630\n",
      "\n"
     ]
    }
   ],
   "source": [
    "import loader   #modified\n",
    "import network  #as is\n",
    "import network2 #as is\n",
    "\n",
    "training_data, test_data = loader.load_data_wrapper()\n",
    "\n",
    "#network.py\n",
    "#net = network.Network([90,60,90])\n",
    "#net.SGD(training_data,30,50,0.1,test_data=test_data)\n",
    "\n",
    "#network2.py\n",
    "net = network2.Network([90,30,90], cost=network2.CrossEntropyCost) \n",
    "net.large_weight_initializer()\n",
    "\n",
    "evaluation_cost, evaluation_accuracy, training_cost, training_accuracy =\\\n",
    "    net.SGD(training_data, 30, 10, 0.5,\n",
    "        evaluation_data=test_data, lmbda = 0.1,\n",
    "        monitor_evaluation_cost=True, monitor_evaluation_accuracy=True,\n",
    "        monitor_training_cost=True, monitor_training_accuracy=True)"
   ]
  },
  {
   "cell_type": "code",
   "execution_count": null,
   "metadata": {
    "collapsed": true
   },
   "outputs": [],
   "source": []
  }
 ],
 "metadata": {
  "kernelspec": {
   "display_name": "Python 2",
   "language": "python",
   "name": "python2"
  },
  "language_info": {
   "codemirror_mode": {
    "name": "ipython",
    "version": 2
   },
   "file_extension": ".py",
   "mimetype": "text/x-python",
   "name": "python",
   "nbconvert_exporter": "python",
   "pygments_lexer": "ipython2",
   "version": "2.7.9"
  }
 },
 "nbformat": 4,
 "nbformat_minor": 0
}
