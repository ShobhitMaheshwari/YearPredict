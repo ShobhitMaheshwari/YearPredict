{
 "cells": [
  {
   "cell_type": "markdown",
   "metadata": {},
   "source": [
    "# Year Prediction for Songs\n",
    "\n",
    "Second part of the project is bringing ANN in. We have utilized the code of the textbook we have been reading, which can be found [here](http://neuralnetworksanddeeplearning.com/chap3.html). We have modified loader script so that it loads the Million Song Dataset instead.\n",
    "\n",
    "We will try several things:\n",
    "\n",
    "- Artificial Neural Network with no Hidden Layer (Naive Try)\n",
    "- Deep Neural Network\n",
    "- A more complex Convolutional Neural Network Structure\n"
   ]
  },
  {
   "cell_type": "markdown",
   "metadata": {},
   "source": [
    "# (1) Artificial Neural Network with no Hidden Layer\n",
    "\n",
    "\n",
    "As explained above, we have modified the loader script. The code will start by calling the piece that loads the data."
   ]
  },
  {
   "cell_type": "code",
   "execution_count": null,
   "metadata": {
    "collapsed": true
   },
   "outputs": [],
   "source": [
    "import loader\n",
    "import network2\n",
    "\n",
    "training_data, test_data = loader.load_data_wrapper()"
   ]
  },
  {
   "cell_type": "code",
   "execution_count": null,
   "metadata": {
    "collapsed": true
   },
   "outputs": [],
   "source": [
    "net = network2.Network([90,90], cost=network2.CrossEntropyCost) \n",
    "net.large_weight_initializer()\n",
    "\n",
    "evaluation_cost, evaluation_accuracy, training_cost, training_accuracy =\\\n",
    "    net.SGD(training_data, 30, 10, 0.5,\n",
    "        evaluation_data=test_data, lmbda = 0.1,\n",
    "        monitor_evaluation_cost=True, monitor_evaluation_accuracy=True,\n",
    "        monitor_training_cost=True, monitor_training_accuracy=True)"
   ]
  },
  {
   "cell_type": "markdown",
   "metadata": {},
   "source": [
    "# (2) Deep Neural Network\n",
    "\n",
    "The only difference here is to go from [90,90] to [90,60,90]."
   ]
  },
  {
   "cell_type": "code",
   "execution_count": null,
   "metadata": {
    "collapsed": true
   },
   "outputs": [],
   "source": [
    "net = network2.Network([90,30,90], cost=network2.CrossEntropyCost) \n",
    "net.large_weight_initializer()\n",
    "\n",
    "evaluation_cost, evaluation_accuracy, training_cost, training_accuracy =\\\n",
    "    net.SGD(training_data, 30, 10, 0.5,\n",
    "        evaluation_data=test_data, lmbda = 0.1,\n",
    "        monitor_evaluation_cost=True, monitor_evaluation_accuracy=True,\n",
    "        monitor_training_cost=True, monitor_training_accuracy=True)"
   ]
  },
  {
   "cell_type": "markdown",
   "metadata": {},
   "source": [
    "# (3) Convolutional Neural Networks\n",
    "\n",
    "In order to run this part, we need to install dependencies such as Theano."
   ]
  },
  {
   "cell_type": "code",
   "execution_count": null,
   "metadata": {
    "collapsed": true
   },
   "outputs": [],
   "source": [
    "# import network3\n",
    "# from network3 import Network\n",
    "# from network3 import ConvPoolLayer, FullyConnectedLayer, SoftmaxLayer\n",
    "# training_data, validation_data, test_data = network3.load_data_shared()\n",
    "# mini_batch_size = 10\n",
    "# net = Network([\n",
    "#         FullyConnectedLayer(n_in=90, n_out=100),\n",
    "#         SoftmaxLayer(n_in=100, n_out=90)], mini_batch_size)\n",
    "# net.SGD(training_data, 60, mini_batch_size, 0.1, \n",
    "#         validation_data, test_data)"
   ]
  }
 ],
 "metadata": {
  "kernelspec": {
   "display_name": "Python 2",
   "language": "python",
   "name": "python2"
  },
  "language_info": {
   "codemirror_mode": {
    "name": "ipython",
    "version": 2
   },
   "file_extension": ".py",
   "mimetype": "text/x-python",
   "name": "python",
   "nbconvert_exporter": "python",
   "pygments_lexer": "ipython2",
   "version": "2.7.9"
  }
 },
 "nbformat": 4,
 "nbformat_minor": 0
}
