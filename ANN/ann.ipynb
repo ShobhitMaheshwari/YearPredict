{
 "cells": [
  {
   "cell_type": "code",
   "execution_count": null,
   "metadata": {
    "collapsed": false
   },
   "outputs": [],
   "source": [
    "import loader\n",
    "import network2\n",
    "import matplotlib.pyplot as plt\n",
    "%matplotlib inline\n",
    "import numpy as np\n",
    "\n",
    "def ANN(name,model):\n",
    "    \n",
    "    target = model[-1] #9 for decades, 90 for years\n",
    "    epochs = 5\n",
    "    \n",
    "    #Load the data file\n",
    "    trn, tst = loader.load_data_wrapper(target)\n",
    "\n",
    "    #Initialize the network and call SGD\n",
    "    net = network2.Network(model, cost=network2.QuadraticCost) \n",
    "    net.large_weight_initializer()\n",
    "\n",
    "    tst_cst, tst_acc, trn_cst, trn_acc, diff, sqdiff =\\\n",
    "    net.SGD(training_data=trn[:100], evaluation_data=tst[:10], epochs=epochs, \n",
    "            mini_batch_size=10, eta=0.5, lmbda=0.1, target=target)\n",
    "\n",
    "    #Write numbers to a file \n",
    "    fo=open(\"results.txt\",\"a\")\n",
    "    np.savetxt(fo,np.array((tst_cst, tst_acc, trn_cst, trn_acc, diff, sqdiff)),delimiter=',',header=name)\n",
    "    fo.close()\n",
    "\n",
    "    #Draw plots\n",
    "    plt.plot(xrange(0,epochs),tst_acc,label=\"Test Accuracy\")\n",
    "    plt.plot(xrange(0,epochs),trn_acc,label=\"Training Accuracy\")\n",
    "    plt.title(\"Accuracy: \"+name)\n",
    "    plt.legend(loc=0)\n",
    "    plt.show()\n",
    "\n",
    "    plt.plot(xrange(0,epochs),tst_cst,label=\"Test Cost\")\n",
    "    plt.plot(xrange(0,epochs),trn_cst,label=\"Training Cost\")\n",
    "    plt.title(\"Cost: \"+name)\n",
    "    plt.legend(loc=0)\n",
    "    plt.show()\n",
    "\n",
    "    plt.plot(xrange(0,epochs),diff,label=\"Diff\")\n",
    "    plt.plot(xrange(0,epochs),sqdiff,label=\"SqDiff\")\n",
    "    plt.title(\"Diff: \"+name)\n",
    "    plt.legend(loc=0)\n",
    "    plt.show()"
   ]
  },
  {
   "cell_type": "code",
   "execution_count": null,
   "metadata": {
    "collapsed": false
   },
   "outputs": [],
   "source": [
    "ANN(\"Shallow NN predicting years\",[90,90])"
   ]
  },
  {
   "cell_type": "code",
   "execution_count": null,
   "metadata": {
    "collapsed": false
   },
   "outputs": [],
   "source": [
    "ANN(\"Deep NN predicting years\",[90,45,90])"
   ]
  },
  {
   "cell_type": "code",
   "execution_count": null,
   "metadata": {
    "collapsed": false
   },
   "outputs": [],
   "source": [
    "ANN(\"Deeper NN predicting years\",[90,60,45,90])"
   ]
  },
  {
   "cell_type": "code",
   "execution_count": null,
   "metadata": {
    "collapsed": false,
    "scrolled": true
   },
   "outputs": [],
   "source": [
    "ANN(\"Shallow NN predicting decades\",[90,9])"
   ]
  },
  {
   "cell_type": "code",
   "execution_count": null,
   "metadata": {
    "collapsed": false
   },
   "outputs": [],
   "source": [
    "ANN(\"Deep NN predicting decades\",[90,45,9])"
   ]
  },
  {
   "cell_type": "code",
   "execution_count": null,
   "metadata": {
    "collapsed": false
   },
   "outputs": [],
   "source": [
    "ANN(\"Deeper NN predicting decades\",[90,60,45,9])"
   ]
  }
 ],
 "metadata": {
  "kernelspec": {
   "display_name": "Python 2",
   "language": "python",
   "name": "python2"
  },
  "language_info": {
   "codemirror_mode": {
    "name": "ipython",
    "version": 2
   },
   "file_extension": ".py",
   "mimetype": "text/x-python",
   "name": "python",
   "nbconvert_exporter": "python",
   "pygments_lexer": "ipython2",
   "version": "2.7.9"
  }
 },
 "nbformat": 4,
 "nbformat_minor": 0
}
