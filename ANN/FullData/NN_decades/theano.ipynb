{
 "cells": [
  {
   "cell_type": "code",
   "execution_count": 1,
   "metadata": {
    "collapsed": true
   },
   "outputs": [],
   "source": [
    "import network3\n",
    "\n",
    "trn,val,tst = network3.load_data_shared()"
   ]
  },
  {
   "cell_type": "code",
   "execution_count": 6,
   "metadata": {
    "collapsed": false
   },
   "outputs": [],
   "source": [
    "from network3 import Network, ConvPoolLayer, FullyConnectedLayer, SoftmaxLayer"
   ]
  },
  {
   "cell_type": "code",
   "execution_count": 9,
   "metadata": {
    "collapsed": true
   },
   "outputs": [],
   "source": [
    "reload(network3)\n",
    "\n",
    "mini_batch_size = 10\n",
    "net = Network([\n",
    "        FullyConnectedLayer(n_in=90,n_out=100),\n",
    "        SoftmaxLayer(n_in=100,n_out=9)], mini_batch_size)\n"
   ]
  },
  {
   "cell_type": "code",
   "execution_count": 11,
   "metadata": {
    "collapsed": false
   },
   "outputs": [
    {
     "data": {
      "text/plain": [
       "<TensorType(float64, matrix)>"
      ]
     },
     "execution_count": 11,
     "metadata": {},
     "output_type": "execute_result"
    }
   ],
   "source": [
    "#net.SGD(trn,60,mini_batch_size,0.1,val,tst)\n",
    "\n",
    "\n",
    "trn[0]\n",
    "\n",
    "\n"
   ]
  },
  {
   "cell_type": "code",
   "execution_count": null,
   "metadata": {
    "collapsed": true
   },
   "outputs": [],
   "source": [
    "import pandas as pd\n",
    "df=pd.read_csv('YearPredictionMSD.txt', sep=',',header=None)\n",
    "\n",
    "#Divide into training-validation-test\n",
    "#trn = df.values[:453715,:]\n",
    "#val = df.values[453715:463715,:]\n",
    "#tst = df.values[463715:,:]\n",
    "\n",
    "trn = df.values[:7,:]\n",
    "val = df.values[7:14,:]\n",
    "tst = df.values[14:21,:]\n",
    "\n",
    "\n",
    "trn_ftr     = trn[:,1:]\n",
    "val_ftr     = val[:,1:]\n",
    "tst_ftr     = tst[:,1:]\n",
    "trn_yrs_int = ((trn[:,0].astype(int))-1922)//10\n",
    "val_yrs_int = ((val[:,0].astype(int))-1922)//10\n",
    "tst_yrs_int = ((tst[:,0].astype(int))-1922)//10\n",
    "\n",
    "training_data   = (trn_ftr,trn_yrs_int)\n",
    "validation_data = (val_ftr,val_yrs_int)\n",
    "test_data       = (tst_ftr,tst_yrs_int)"
   ]
  },
  {
   "cell_type": "code",
   "execution_count": 13,
   "metadata": {
    "collapsed": true
   },
   "outputs": [],
   "source": [
    "import cPickle\n",
    "import gzip"
   ]
  },
  {
   "cell_type": "code",
   "execution_count": null,
   "metadata": {
    "collapsed": true
   },
   "outputs": [],
   "source": []
  }
 ],
 "metadata": {
  "kernelspec": {
   "display_name": "Python 2",
   "language": "python",
   "name": "python2"
  },
  "language_info": {
   "codemirror_mode": {
    "name": "ipython",
    "version": 2
   },
   "file_extension": ".py",
   "mimetype": "text/x-python",
   "name": "python",
   "nbconvert_exporter": "python",
   "pygments_lexer": "ipython2",
   "version": "2.7.9"
  }
 },
 "nbformat": 4,
 "nbformat_minor": 0
}
