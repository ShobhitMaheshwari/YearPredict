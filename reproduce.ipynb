{
 "cells": [
  {
   "cell_type": "markdown",
   "metadata": {},
   "source": [
    "# Year Prediction for Songs\n",
    "\n",
    "This is the Python2 notebook for CS218 class project. We will complete it in several pieces.\n",
    "\n",
    "## 0. Loading the data\n",
    "\n",
    "Please run ```download.sh``` in the folder to download ```YearPredictionMSD.txt``` data file."
   ]
  },
  {
   "cell_type": "code",
   "execution_count": 6,
   "metadata": {
    "collapsed": false
   },
   "outputs": [],
   "source": [
    "import numpy as np\n",
    "import pandas as pd\n",
    "import matplotlib.pyplot as plt\n",
    "%matplotlib inline"
   ]
  },
  {
   "cell_type": "code",
   "execution_count": 70,
   "metadata": {
    "collapsed": false
   },
   "outputs": [],
   "source": [
    "df=pd.read_csv('YearPredictionMSD.txt', sep=',',header=None)\n",
    "\n",
    "training = df.values[:463715,:]\n",
    "test     = df.values[463715:,:]\n",
    "\n",
    "training_years    = training[:,0].astype(int)\n",
    "training_features = training[:,1:]\n",
    "test_years        = test[:,0].astype(int)\n",
    "test_features     = test[:,1:]\n",
    "\n",
    "earliest = 1922\n",
    "latest   = 2011"
   ]
  },
  {
   "cell_type": "markdown",
   "metadata": {},
   "source": [
    "Now we have read our data, divided it into *training* and *test*. x_years will have actual years, whereas x_features will have 90 features. \n",
    "\n",
    "Let's take a look at frequencies of years in training data."
   ]
  },
  {
   "cell_type": "code",
   "execution_count": 73,
   "metadata": {
    "collapsed": false
   },
   "outputs": [
    {
     "data": {
      "text/plain": [
       "<matplotlib.text.Text at 0x7f6834baea90>"
      ]
     },
     "execution_count": 73,
     "metadata": {},
     "output_type": "execute_result"
    },
    {
     "data": {
      "image/png": "[encoded data removed]",
      "text/plain": [
       "<matplotlib.figure.Figure at 0x7f6834bdf390>"
      ]
     },
     "metadata": {},
     "output_type": "display_data"
    }
   ],
   "source": [
    "counts = np.bincount(training_years)\n",
    "counts = counts[-(latest-earliest+1):]\n",
    "plt.plot(xrange(earliest,latest+1),counts)\n",
    "plt.title(\"Year distribution in training set\")"
   ]
  },
  {
   "cell_type": "markdown",
   "metadata": {},
   "source": [
    "Seems like we have a peak through the end, let's find out which year has the maximum songs, and we will use it for the first method.\n",
    "\n",
    "## 1. Constant Prediction\n",
    "\n",
    "Here, our \"model\" will just guess the song is from the most common year."
   ]
  },
  {
   "cell_type": "code",
   "execution_count": 88,
   "metadata": {
    "collapsed": false
   },
   "outputs": [
    {
     "data": {
      "text/plain": [
       "2007"
      ]
     },
     "execution_count": 88,
     "metadata": {},
     "output_type": "execute_result"
    }
   ],
   "source": [
    "np.argmax(counts)+earliest"
   ]
  },
  {
   "cell_type": "code",
   "execution_count": null,
   "metadata": {
    "collapsed": true
   },
   "outputs": [],
   "source": []
  }
 ],
 "metadata": {
  "kernelspec": {
   "display_name": "Python 2",
   "language": "python",
   "name": "python2"
  },
  "language_info": {
   "codemirror_mode": {
    "name": "ipython",
    "version": 2
   },
   "file_extension": ".py",
   "mimetype": "text/x-python",
   "name": "python",
   "nbconvert_exporter": "python",
   "pygments_lexer": "ipython2",
   "version": "2.7.9"
  }
 },
 "nbformat": 4,
 "nbformat_minor": 0
}
