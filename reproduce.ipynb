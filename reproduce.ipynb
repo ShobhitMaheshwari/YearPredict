{
 "cells": [
  {
   "cell_type": "markdown",
   "metadata": {},
   "source": [
    "# Year Prediction for Songs\n",
    "\n",
    "This is the Python2 notebook for CS218 class project. We will complete it in several pieces.\n",
    "\n",
    "This Jupyter notebook will go through the reproduction of ISMIR'11 paper. It has four methods:\n",
    "\n",
    "- Constant Prediction\n",
    "- 1 Nearest Neighbor\n",
    "- 50 Nearest Neighbor\n",
    "- Vowpal Wabbit\n",
    "\n",
    "But we will start with loading the data.\n",
    "\n",
    "# (0) Loading the data\n",
    "\n",
    "Please run ```download.sh``` in the folder to download ```YearPredictionMSD.txt``` data file.\n",
    "\n",
    "Here, we are loading the data file, dividing test-training parts, mapping years from 1922-2011 to 0-1."
   ]
  },
  {
   "cell_type": "code",
   "execution_count": 1,
   "metadata": {
    "collapsed": false
   },
   "outputs": [],
   "source": [
    "import math\n",
    "import operator\n",
    "import numpy as np\n",
    "import pandas as pd\n",
    "import matplotlib.pyplot as plt\n",
    "%matplotlib inline\n",
    "\n",
    "#Open the file\n",
    "df=pd.read_csv('YearPredictionMSD.txt', sep=',',header=None)\n",
    "\n",
    "#Divide into training-test\n",
    "trn = df.values[:463715,:]\n",
    "tst = df.values[463715:,:]\n",
    "\n",
    "#Functions to map 1922-2011 <-> 0-1\n",
    "def ToZeroOne(x):\n",
    "    return (x-1922)/89\n",
    "def FromZeroOne(x):\n",
    "    return x*89+1922\n",
    "\n",
    "#Get training years (both actual years and mapped to 0-1) and features.\n",
    "trn_ftr     = trn[:,1:]\n",
    "tst_ftr     = tst[:,1:]\n",
    "trn_yrs_int = trn[:,0].astype(int)\n",
    "tst_yrs_int = tst[:,0].astype(int)\n",
    "trn_yrs     = map(ToZeroOne,trn_yrs_int.astype(float))\n",
    "tst_yrs     = map(ToZeroOne,tst_yrs_int.astype(float))\n",
    "\n",
    "#Use numpy for speed\n",
    "trn_ftr     = np.array(trn_ftr)\n",
    "tst_ftr     = np.array(tst_ftr)\n",
    "trn_yrs_int = np.array(trn_yrs_int)\n",
    "tst_yrs_int = np.array(tst_yrs_int)\n",
    "trn_yrs     = np.array(trn_yrs)\n",
    "tst_yrs     = np.array(tst_yrs)"
   ]
  },
  {
   "cell_type": "markdown",
   "metadata": {},
   "source": [
    "Now we have read our data, divided it into *training* and *test*. x_yrs will have actual years, whereas x_ftr will have 90 features. \n",
    "\n",
    "Let's take a look at frequencies of years in training data."
   ]
  },
  {
   "cell_type": "code",
   "execution_count": 2,
   "metadata": {
    "collapsed": false
   },
   "outputs": [
    {
     "data": {
      "text/plain": [
       "<matplotlib.text.Text at 0x7f90821a7990>"
      ]
     },
     "execution_count": 2,
     "metadata": {},
     "output_type": "execute_result"
    },
    {
     "data": {
      "image/png": "[encoded data removed]",
      "text/plain": [
       "<matplotlib.figure.Figure at 0x7f90a84d4c10>"
      ]
     },
     "metadata": {},
     "output_type": "display_data"
    }
   ],
   "source": [
    "counts = np.bincount(trn_yrs_int)\n",
    "counts = counts[-(2011-1922+1):]\n",
    "plt.plot(xrange(1922,2011+1),counts) #use range for python3\n",
    "plt.xlim([1922,2011])\n",
    "plt.title(\"Year distribution in training set\")\n",
    "plt.show()"
   ]
  },
  {
   "cell_type": "markdown",
   "metadata": {},
   "source": [
    "Seems like we have a peak through the end, the average will probably be around that part as well. Let's actually calculate it and see which year it corresponds to.\n",
    "\n",
    "# (1) Constant Prediction\n",
    "\n",
    "Here, our \"model\" will just guess the song is from the \"average\" year."
   ]
  },
  {
   "cell_type": "code",
   "execution_count": 3,
   "metadata": {
    "collapsed": false
   },
   "outputs": [
    {
     "data": {
      "text/plain": [
       "1998.3860949077559"
      ]
     },
     "execution_count": 3,
     "metadata": {},
     "output_type": "execute_result"
    }
   ],
   "source": [
    "guess = np.average(trn_yrs)\n",
    "\n",
    "FromZeroOne(guess)"
   ]
  },
  {
   "cell_type": "markdown",
   "metadata": {},
   "source": [
    "It's around the year 1998.4. Let's see how much error we get for guessing the average."
   ]
  },
  {
   "cell_type": "code",
   "execution_count": 10,
   "metadata": {
    "collapsed": false
   },
   "outputs": [
    {
     "name": "stdout",
     "output_type": "stream",
     "text": [
      "Method 1: Constant Prediction\n",
      "\n",
      "Error:  0.0911580886729\n",
      "SqErr:  0.121937796687\n"
     ]
    }
   ],
   "source": [
    "print \"Method 1: Constant Prediction\\n\"\n",
    "\n",
    "error = 0\n",
    "sqerr = 0\n",
    "\n",
    "#Calculate the error\n",
    "for i in xrange(0,len(tst_yrs)):\n",
    "    difference = guess-tst_yrs[i]\n",
    "    \n",
    "    error += abs(difference)\n",
    "    sqerr += (difference)**2\n",
    "\n",
    "#Average the error\n",
    "error /= len(tst_yrs)\n",
    "sqerr /= len(tst_yrs)\n",
    "\n",
    "#Since they reported sqrt of sqerr, we followed them:\n",
    "sqerr = math.sqrt(sqerr)\n",
    "    \n",
    "#\"Diff\"\n",
    "print \"Error: \",error\n",
    "\n",
    "#Squared error\n",
    "print \"SqErr: \",sqerr"
   ]
  },
  {
   "cell_type": "markdown",
   "metadata": {},
   "source": [
    "This is already interesting. Their diff was 8.13, while we had 9.12. Their sq.diff was 10.80, we had 12.19. It might be their update to the data they made after writing the paper. We can also say accuracy is zero, because all guesses were \"1998.4\", whereas our data was integers only. Let's move to the next method.\n",
    "\n",
    "# (2) 1-Nearest Neighbor and (3) 10-Nearest Neighbor\n",
    "\n",
    "In this part, we will calculate our error with 1-NN and 10-NN. For NN testing, we will follow the tutorial given [here](http://machinelearningmastery.com/tutorial-to-implement-k-nearest-neighbors-in-python-from-scratch/)."
   ]
  },
  {
   "cell_type": "code",
   "execution_count": 5,
   "metadata": {
    "collapsed": true
   },
   "outputs": [],
   "source": [
    "#Adapted from http://machinelearningmastery.com/tutorial-to-implement-k-nearest-neighbors-in-python-from-scratch/\n",
    "\n",
    "\n",
    "#Calculate Euclidean distance between two 90D vectors\n",
    "#Return \"k\" closest neighbors of testInstance in training set\n",
    "def getNeighbors(testInstance, k):\n",
    "    distances   = np.sum((testInstance-trn_ftr[:])**2,axis=1)\n",
    "    dist_tuples = []\n",
    "    for x in range(len(trn_ftr)):\n",
    "        dist_tuples.append((distances[x],trn_yrs[x])) #distance, year\n",
    "    dist_tuples.sort(key=operator.itemgetter(0))\n",
    "    neighbors = []\n",
    "    for x in range(k):\n",
    "        neighbors.append(dist_tuples[x][1])\n",
    "    return neighbors\n",
    "\n",
    "#Majority vote\n",
    "def getResponse(neighbors):\n",
    "    classVotes = {}\n",
    "    for x in range(len(neighbors)):\n",
    "        response = neighbors[x]\n",
    "        if response in classVotes:\n",
    "            classVotes[response] += 1\n",
    "        else:\n",
    "            classVotes[response] = 1\n",
    "\t# use classVotes.items() in python3\n",
    "    sortedVotes = sorted(classVotes.iteritems(), key=operator.itemgetter(1), reverse=True)\n",
    "    return sortedVotes[0][0]"
   ]
  },
  {
   "cell_type": "code",
   "execution_count": null,
   "metadata": {
    "collapsed": true
   },
   "outputs": [],
   "source": [
    "print \"Method 2-3: 1NN-10NN\\n\"\n",
    "\n",
    "one_error = 0\n",
    "one_sqerr = 0\n",
    "one_corrn = 0\n",
    "\n",
    "ten_error = 0\n",
    "ten_sqerr = 0\n",
    "ten_corrn = 0\n",
    "\n",
    "#Calculate the error\n",
    "for i in xrange(0,len(tst_yrs)):\n",
    "    ten_neighbors = getNeighbors(tst_ftr[i],k=10)\n",
    "    one_neighbors = ten_neighbors[0]\n",
    "    ten_guess = getResponse(ten_neighbors)\n",
    "    one_guess = one_neighbors\n",
    "\n",
    "    one_difference = one_guess-tst_yrs[i]\n",
    "    ten_difference = ten_guess-tst_yrs[i]\n",
    "    \n",
    "    one_error += abs(one_difference)\n",
    "    one_sqerr += (one_difference)**2\n",
    "    ten_error += abs(ten_difference)\n",
    "    ten_sqerr += (ten_difference)**2\n",
    "\n",
    "    if (one_error==0):\n",
    "        one_corrn+=1\n",
    "    if (ten_error==0):\n",
    "        ten_corrn+=1\n",
    "\n",
    "    #print i,\"1NN\",FromZeroOne(one_guess).astype(int),\"10NN\",FromZeroOne(ten_guess).astype(int),\"truth\",FromZeroOne(tst_yrs[i]).astype(int)\n",
    "    \n",
    "\n",
    "#Average the error\n",
    "one_error /= len(tst_yrs)\n",
    "one_sqerr /= len(tst_yrs)\n",
    "one_corrn /= len(tst_yrs)\n",
    "ten_error /= len(tst_yrs)\n",
    "ten_sqerr /= len(tst_yrs)\n",
    "ten_corrn /= len(tst_yrs)\n",
    "\n",
    "#Since they reported sqrt of sqerr, we followed them:\n",
    "one_sqerr = math.sqrt(one_sqerr)\n",
    "ten_sqerr = math.sqrt(ten_sqerr)\n",
    "    \n",
    "#\"Diff\"\n",
    "print \"1NN Error: \",one_error\n",
    "print \"KNN Error: \",ten_error\n",
    "\n",
    "#Squared error\n",
    "print \"1NN SqErr: \",one_sqerr\n",
    "print \"KNN SqErr: \",ten_sqerr\n",
    "\n",
    "#Correct guesses (percent)\n",
    "print \"1NN Correct: \",one_corrn\n",
    "print \"KNN Correct: \",ten_corrn"
   ]
  },
  {
   "cell_type": "markdown",
   "metadata": {
    "collapsed": false
   },
   "source": [
    "We run this part in a faster cloud machine, after dividing the task into 4 pieces. Still, it took very long to reach at results. \n",
    "\n",
    "1NN Error:  0.110083415487\n",
    "\n",
    "KNN Error:  0.0914279869512\n",
    "\n",
    "1NN SqErr:  0.157869954077\n",
    "\n",
    "KNN SqErr:  0.139451772844"
   ]
  },
  {
   "cell_type": "markdown",
   "metadata": {},
   "source": [
    "# (4) Vowpal Wabbit"
   ]
  },
  {
   "cell_type": "code",
   "execution_count": null,
   "metadata": {
    "collapsed": true
   },
   "outputs": [],
   "source": [
    ""
   ]
  }
 ],
 "metadata": {
  "kernelspec": {
   "display_name": "Python 2",
   "language": "python",
   "name": "python2"
  },
  "language_info": {
   "codemirror_mode": {
    "name": "ipython",
    "version": 2.0
   },
   "file_extension": ".py",
   "mimetype": "text/x-python",
   "name": "python",
   "nbconvert_exporter": "python",
   "pygments_lexer": "ipython2",
   "version": "2.7.9"
  }
 },
 "nbformat": 4,
 "nbformat_minor": 0
}