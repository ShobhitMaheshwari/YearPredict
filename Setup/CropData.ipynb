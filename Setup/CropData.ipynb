{
 "cells": [
  {
   "cell_type": "code",
   "execution_count": 1,
   "metadata": {
    "collapsed": true
   },
   "outputs": [],
   "source": [
    "############################################\n",
    "### MAKE SURE TO SHUFFLE THE OUTPUT FILE ###\n",
    "###   AFTER RUNNING THIS PYTHON SCRIPT   ###\n",
    "### For example, in Ubuntu:              ###\n",
    "### shuf CroppedData.txt > Shuffled.txt  ###\n",
    "############################################\n",
    "\n",
    "import pandas as pd\n",
    "from collections import defaultdict\n",
    "\n",
    "#Open the file\n",
    "df=pd.read_csv('YearPredictionMSD.txt', sep=',',header=None)\n",
    "\n",
    "T=defaultdict(list)\n",
    "\n",
    "for x in df.values:\n",
    "    T[int(x[0])].append(x[1:])\n"
   ]
  },
  {
   "cell_type": "code",
   "execution_count": 2,
   "metadata": {
    "collapsed": true
   },
   "outputs": [],
   "source": [
    "import random\n",
    "\n",
    "y=1922\n",
    "while len(T[y])!=1000:\n",
    "    r = random.randint(0,len(T[y])-1)\n",
    "    if(len(T[y])<1000):\n",
    "        T[y].append(T[y][r])\n",
    "\n",
    "for y in range(1924,2012):\n",
    "    while len(T[y])!=1000:\n",
    "        r = random.randint(0,len(T[y])-1)\n",
    "        if(len(T[y])<1000):\n",
    "            T[y].append(T[y][r])\n",
    "        if(len(T[y])>1000):\n",
    "            del T[y][r]"
   ]
  },
  {
   "cell_type": "code",
   "execution_count": 3,
   "metadata": {
    "collapsed": false
   },
   "outputs": [],
   "source": [
    "fo=open(\"CroppedData.txt\",\"w\")"
   ]
  },
  {
   "cell_type": "code",
   "execution_count": 4,
   "metadata": {
    "collapsed": false
   },
   "outputs": [],
   "source": [
    "for y in range(1922,2012):\n",
    "    for i in range(0,len(T[y])):\n",
    "        fo.write(str(y))\n",
    "        fo.write(\", \")\n",
    "        fo.write(', '.join(str(x) for x in T[y][i]))\n",
    "        fo.write(\"\\n\")"
   ]
  },
  {
   "cell_type": "code",
   "execution_count": 5,
   "metadata": {
    "collapsed": true
   },
   "outputs": [],
   "source": [
    "fo.close()"
   ]
  }
 ],
 "metadata": {
  "kernelspec": {
   "display_name": "Python 2",
   "language": "python",
   "name": "python2"
  },
  "language_info": {
   "codemirror_mode": {
    "name": "ipython",
    "version": 2
   },
   "file_extension": ".py",
   "mimetype": "text/x-python",
   "name": "python",
   "nbconvert_exporter": "python",
   "pygments_lexer": "ipython2",
   "version": "2.7.9"
  }
 },
 "nbformat": 4,
 "nbformat_minor": 0
}
